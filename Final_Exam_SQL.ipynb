{
  "cells": [
    {
      "cell_type": "markdown",
      "metadata": {
        "id": "O3uhQEw4Jqnt"
      },
      "source": [
        "# Gather Section (20 Questions, 40 Marks)\n",
        "\n",
        "You should have access to a file called TMDB.db. The first step to answering this set of questions will be to connect to this db file to access the data.\n",
        "\n",
        "![SQL Architectures](https://raw.githubusercontent.com/Explore-AI/Public-Data/master/image/TMDB_ERD.JPG)\n",
        "\n",
        "Before we start we need to load our SQL magic commands (we only need do this once per notebook):"
      ]
    },
    {
      "cell_type": "code",
      "execution_count": 1,
      "metadata": {
        "id": "tYyzGpQrJqnv"
      },
      "outputs": [],
      "source": [
        "%load_ext sql"
      ]
    },
    {
      "cell_type": "markdown",
      "metadata": {
        "id": "ok5TGOw3Jqnw"
      },
      "source": [
        "\n",
        "\n",
        "\n",
        "Based on that data, answer the following questions:\n",
        "\n",
        "\n",
        "### Question 1\n",
        "What is the code you can use to connect to the TMDB database that is saved in a Colab notebook?\n"
      ]
    },
    {
      "cell_type": "code",
      "execution_count": 2,
      "metadata": {
        "id": "bkHzM8QXJqnw"
      },
      "outputs": [],
      "source": [
        "%%sql\n",
        "sqlite:///TMDB.db"
      ]
    },
    {
      "cell_type": "markdown",
      "metadata": {
        "id": "JgRO7x1-Jqnx"
      },
      "source": [
        "### Question 2\n",
        "What is the primary key for the table “movies”?\n",
        "\n"
      ]
    },
    {
      "cell_type": "code",
      "source": [
        "%%sql\n",
        "select * from movies limit 5;"
      ],
      "metadata": {
        "colab": {
          "base_uri": "https://localhost:8080/",
          "height": 1000
        },
        "id": "30n5mOyu7BEj",
        "outputId": "ded3d9d1-b31e-4a21-a1f5-82f8cfd52428"
      },
      "execution_count": 3,
      "outputs": [
        {
          "output_type": "stream",
          "name": "stdout",
          "text": [
            " * sqlite:///TMDB.db\n",
            "Done.\n"
          ]
        },
        {
          "output_type": "execute_result",
          "data": {
            "text/plain": [
              "[(5, 'Four Rooms', '1995-12-09 00:00:00.000000', 4000000, None, 'en', 'Four Rooms', \"It's Ted the Bellhop's first night on the job...and the hotel's very unusual guests are about to place him in some outrageous predicaments. It seems that this evening's room service is serving up one unbelievable happening after another.\", 22.87623, 4300000.0, 98.0, 'Released', \"Twelve outrageous guests. Four scandalous requests. And one lone bellhop, in his first day on the job, who's in for the wildest New year's Eve of his life.\", 6.5, 530),\n",
              " (11, 'Star Wars', '1977-05-25 00:00:00.000000', 11000000, 'http://www.starwars.com/films/star-wars-episode-iv-a-new-hope', 'en', 'Star Wars', 'Princess Leia is captured and held hostage by the evil Imperial forces in their effort to take over the galactic Empire. Venturesome Luke Skywalker a ... (14 characters truncated) ... tain Han Solo team together with the loveable robot duo R2-D2 and C-3PO to rescue the beautiful princess and restore peace and justice in the Empire.', 126.393695, 775398007.0, 121.0, 'Released', 'A long time ago in a galaxy far, far away...', 8.1, 6624),\n",
              " (12, 'Finding Nemo', '2003-05-30 00:00:00.000000', 94000000, 'http://movies.disney.com/finding-nemo', 'en', 'Finding Nemo', \"Nemo, an adventurous young clownfish, is unexpectedly taken from his Great Barrier Reef home to a dentist's office aquarium. It's up to his worrisome ... (35 characters truncated) ... orgetful fish Dory to bring Nemo home -- meeting vegetarian sharks, surfer dude turtles, hypnotic jellyfish, hungry seagulls, and more along the way.\", 85.688789, 940335536.0, 100.0, 'Released', \"There are 3.7 trillion fish in the ocean, they're looking for one.\", 7.6, 6122),\n",
              " (13, 'Forrest Gump', '1994-07-06 00:00:00.000000', 55000000, None, 'en', 'Forrest Gump', \"A man with a low IQ has accomplished great things in his life and been present during significant historic events - in each case, far exceeding what  ... (108 characters truncated) ... rest Gump' is the story of a man who rose above his challenges, and who proved that determination, courage, and love are more important than ability.\", 138.133331, 677945399.0, 142.0, 'Released', \"The world will never be the same, once you've seen it through the eyes of Forrest Gump.\", 8.2, 7927),\n",
              " (14, 'American Beauty', '1999-09-15 00:00:00.000000', 15000000, 'http://www.dreamworks.com/ab/', 'en', 'American Beauty', \"Lester Burnham, a depressed suburban father in a mid-life crisis, decides to turn his hectic life around after developing an infatuation with his daughter's attractive friend.\", 80.878605, 356296601.0, 122.0, 'Released', 'Look closer.', 7.9, 3313)]"
            ],
            "text/html": [
              "<table>\n",
              "    <thead>\n",
              "        <tr>\n",
              "            <th>movie_id</th>\n",
              "            <th>title</th>\n",
              "            <th>release_date</th>\n",
              "            <th>budget</th>\n",
              "            <th>homepage</th>\n",
              "            <th>original_language</th>\n",
              "            <th>original_title</th>\n",
              "            <th>overview</th>\n",
              "            <th>popularity</th>\n",
              "            <th>revenue</th>\n",
              "            <th>runtime</th>\n",
              "            <th>release_status</th>\n",
              "            <th>tagline</th>\n",
              "            <th>vote_average</th>\n",
              "            <th>vote_count</th>\n",
              "        </tr>\n",
              "    </thead>\n",
              "    <tbody>\n",
              "        <tr>\n",
              "            <td>5</td>\n",
              "            <td>Four Rooms</td>\n",
              "            <td>1995-12-09 00:00:00.000000</td>\n",
              "            <td>4000000</td>\n",
              "            <td>None</td>\n",
              "            <td>en</td>\n",
              "            <td>Four Rooms</td>\n",
              "            <td>It&#x27;s Ted the Bellhop&#x27;s first night on the job...and the hotel&#x27;s very unusual guests are about to place him in some outrageous predicaments. It seems that this evening&#x27;s room service is serving up one unbelievable happening after another.</td>\n",
              "            <td>22.87623</td>\n",
              "            <td>4300000.0</td>\n",
              "            <td>98.0</td>\n",
              "            <td>Released</td>\n",
              "            <td>Twelve outrageous guests. Four scandalous requests. And one lone bellhop, in his first day on the job, who&#x27;s in for the wildest New year&#x27;s Eve of his life.</td>\n",
              "            <td>6.5</td>\n",
              "            <td>530</td>\n",
              "        </tr>\n",
              "        <tr>\n",
              "            <td>11</td>\n",
              "            <td>Star Wars</td>\n",
              "            <td>1977-05-25 00:00:00.000000</td>\n",
              "            <td>11000000</td>\n",
              "            <td>http://www.starwars.com/films/star-wars-episode-iv-a-new-hope</td>\n",
              "            <td>en</td>\n",
              "            <td>Star Wars</td>\n",
              "            <td>Princess Leia is captured and held hostage by the evil Imperial forces in their effort to take over the galactic Empire. Venturesome Luke Skywalker and dashing captain Han Solo team together with the loveable robot duo R2-D2 and C-3PO to rescue the beautiful princess and restore peace and justice in the Empire.</td>\n",
              "            <td>126.393695</td>\n",
              "            <td>775398007.0</td>\n",
              "            <td>121.0</td>\n",
              "            <td>Released</td>\n",
              "            <td>A long time ago in a galaxy far, far away...</td>\n",
              "            <td>8.1</td>\n",
              "            <td>6624</td>\n",
              "        </tr>\n",
              "        <tr>\n",
              "            <td>12</td>\n",
              "            <td>Finding Nemo</td>\n",
              "            <td>2003-05-30 00:00:00.000000</td>\n",
              "            <td>94000000</td>\n",
              "            <td>http://movies.disney.com/finding-nemo</td>\n",
              "            <td>en</td>\n",
              "            <td>Finding Nemo</td>\n",
              "            <td>Nemo, an adventurous young clownfish, is unexpectedly taken from his Great Barrier Reef home to a dentist&#x27;s office aquarium. It&#x27;s up to his worrisome father Marlin and a friendly but forgetful fish Dory to bring Nemo home -- meeting vegetarian sharks, surfer dude turtles, hypnotic jellyfish, hungry seagulls, and more along the way.</td>\n",
              "            <td>85.688789</td>\n",
              "            <td>940335536.0</td>\n",
              "            <td>100.0</td>\n",
              "            <td>Released</td>\n",
              "            <td>There are 3.7 trillion fish in the ocean, they&#x27;re looking for one.</td>\n",
              "            <td>7.6</td>\n",
              "            <td>6122</td>\n",
              "        </tr>\n",
              "        <tr>\n",
              "            <td>13</td>\n",
              "            <td>Forrest Gump</td>\n",
              "            <td>1994-07-06 00:00:00.000000</td>\n",
              "            <td>55000000</td>\n",
              "            <td>None</td>\n",
              "            <td>en</td>\n",
              "            <td>Forrest Gump</td>\n",
              "            <td>A man with a low IQ has accomplished great things in his life and been present during significant historic events - in each case, far exceeding what anyone imagined he could do. Yet, despite all the things he has attained, his one true love eludes him. &#x27;Forrest Gump&#x27; is the story of a man who rose above his challenges, and who proved that determination, courage, and love are more important than ability.</td>\n",
              "            <td>138.133331</td>\n",
              "            <td>677945399.0</td>\n",
              "            <td>142.0</td>\n",
              "            <td>Released</td>\n",
              "            <td>The world will never be the same, once you&#x27;ve seen it through the eyes of Forrest Gump.</td>\n",
              "            <td>8.2</td>\n",
              "            <td>7927</td>\n",
              "        </tr>\n",
              "        <tr>\n",
              "            <td>14</td>\n",
              "            <td>American Beauty</td>\n",
              "            <td>1999-09-15 00:00:00.000000</td>\n",
              "            <td>15000000</td>\n",
              "            <td>http://www.dreamworks.com/ab/</td>\n",
              "            <td>en</td>\n",
              "            <td>American Beauty</td>\n",
              "            <td>Lester Burnham, a depressed suburban father in a mid-life crisis, decides to turn his hectic life around after developing an infatuation with his daughter&#x27;s attractive friend.</td>\n",
              "            <td>80.878605</td>\n",
              "            <td>356296601.0</td>\n",
              "            <td>122.0</td>\n",
              "            <td>Released</td>\n",
              "            <td>Look closer.</td>\n",
              "            <td>7.9</td>\n",
              "            <td>3313</td>\n",
              "        </tr>\n",
              "    </tbody>\n",
              "</table>"
            ]
          },
          "metadata": {},
          "execution_count": 3
        }
      ]
    },
    {
      "cell_type": "markdown",
      "metadata": {
        "id": "KSkdaG_iJqnx"
      },
      "source": [
        "### Question 3\n",
        "How many foreign keys does the “languagemap” table have?\n",
        "\n"
      ]
    },
    {
      "cell_type": "markdown",
      "metadata": {
        "id": "eO7T-b9AJqnx"
      },
      "source": [
        "### Question 4\n",
        "What code would you use to set up a view of all movies that did not get released?\n"
      ]
    },
    {
      "cell_type": "code",
      "execution_count": 4,
      "metadata": {
        "id": "8FTBNKnlJqny",
        "colab": {
          "base_uri": "https://localhost:8080/"
        },
        "outputId": "9e69b47e-5863-412c-88d1-0948f54c1295"
      },
      "outputs": [
        {
          "output_type": "stream",
          "name": "stdout",
          "text": [
            " * sqlite:///TMDB.db\n",
            "Done.\n"
          ]
        },
        {
          "output_type": "execute_result",
          "data": {
            "text/plain": [
              "[]"
            ]
          },
          "metadata": {},
          "execution_count": 4
        }
      ],
      "source": [
        "%%sql\n",
        "create view not_released as\n",
        "select * from movies where release_date <>'Released';"
      ]
    },
    {
      "cell_type": "markdown",
      "metadata": {
        "id": "GxuX_z8iJqny"
      },
      "source": [
        "### Question 5\n",
        "How would you select only the title, release date, and release status columns from the view you created in the previous question?\n"
      ]
    },
    {
      "cell_type": "code",
      "execution_count": 7,
      "metadata": {
        "colab": {
          "base_uri": "https://localhost:8080/",
          "height": 182
        },
        "id": "h3EtkaxI6X3q",
        "outputId": "f1d6b382-3241-46f4-88ea-d632e99ac322"
      },
      "outputs": [
        {
          "output_type": "stream",
          "name": "stdout",
          "text": [
            " * sqlite:///TMDB.db\n",
            "Done.\n"
          ]
        },
        {
          "output_type": "execute_result",
          "data": {
            "text/plain": [
              "[('Four Rooms', '1995-12-09 00:00:00.000000', 'Released'),\n",
              " ('Star Wars', '1977-05-25 00:00:00.000000', 'Released'),\n",
              " ('Finding Nemo', '2003-05-30 00:00:00.000000', 'Released'),\n",
              " ('Forrest Gump', '1994-07-06 00:00:00.000000', 'Released'),\n",
              " ('American Beauty', '1999-09-15 00:00:00.000000', 'Released')]"
            ],
            "text/html": [
              "<table>\n",
              "    <thead>\n",
              "        <tr>\n",
              "            <th>title</th>\n",
              "            <th>release_date</th>\n",
              "            <th>release_status</th>\n",
              "        </tr>\n",
              "    </thead>\n",
              "    <tbody>\n",
              "        <tr>\n",
              "            <td>Four Rooms</td>\n",
              "            <td>1995-12-09 00:00:00.000000</td>\n",
              "            <td>Released</td>\n",
              "        </tr>\n",
              "        <tr>\n",
              "            <td>Star Wars</td>\n",
              "            <td>1977-05-25 00:00:00.000000</td>\n",
              "            <td>Released</td>\n",
              "        </tr>\n",
              "        <tr>\n",
              "            <td>Finding Nemo</td>\n",
              "            <td>2003-05-30 00:00:00.000000</td>\n",
              "            <td>Released</td>\n",
              "        </tr>\n",
              "        <tr>\n",
              "            <td>Forrest Gump</td>\n",
              "            <td>1994-07-06 00:00:00.000000</td>\n",
              "            <td>Released</td>\n",
              "        </tr>\n",
              "        <tr>\n",
              "            <td>American Beauty</td>\n",
              "            <td>1999-09-15 00:00:00.000000</td>\n",
              "            <td>Released</td>\n",
              "        </tr>\n",
              "    </tbody>\n",
              "</table>"
            ]
          },
          "metadata": {},
          "execution_count": 7
        }
      ],
      "source": [
        "%%sql\n",
        "select title, release_date, release_status from not_released limit 5;"
      ]
    },
    {
      "cell_type": "markdown",
      "metadata": {
        "id": "WYqGtSSkJqnz"
      },
      "source": [
        "### Question 6\n",
        "How many movies are no longer using their original titles?\n",
        "\n"
      ]
    },
    {
      "cell_type": "code",
      "execution_count": 8,
      "metadata": {
        "id": "4l4MbDo2Jqn0",
        "colab": {
          "base_uri": "https://localhost:8080/",
          "height": 96
        },
        "outputId": "3ee64542-c9c6-44b8-f847-8c062b204c8c"
      },
      "outputs": [
        {
          "output_type": "stream",
          "name": "stdout",
          "text": [
            " * sqlite:///TMDB.db\n",
            "Done.\n"
          ]
        },
        {
          "output_type": "execute_result",
          "data": {
            "text/plain": [
              "[(261,)]"
            ],
            "text/html": [
              "<table>\n",
              "    <thead>\n",
              "        <tr>\n",
              "            <th>count(*)</th>\n",
              "        </tr>\n",
              "    </thead>\n",
              "    <tbody>\n",
              "        <tr>\n",
              "            <td>261</td>\n",
              "        </tr>\n",
              "    </tbody>\n",
              "</table>"
            ]
          },
          "metadata": {},
          "execution_count": 8
        }
      ],
      "source": [
        "%%sql\n",
        "select count(*) from movies where original_title <> title;"
      ]
    },
    {
      "cell_type": "markdown",
      "metadata": {
        "id": "_ZJuNLfPJqn0"
      },
      "source": [
        "### Question 7\n",
        "What is the most popular movie that was made after 01/01/2000 with a budget of more than $100 000 000? (Hint: Use the popularity field in the Movies table. Larger numbers are more popular.)\n"
      ]
    },
    {
      "cell_type": "code",
      "execution_count": 9,
      "metadata": {
        "id": "AY2PN5HzJqn0",
        "colab": {
          "base_uri": "https://localhost:8080/",
          "height": 96
        },
        "outputId": "016f3c8a-f5c3-46e3-d830-4d78f1d3d634"
      },
      "outputs": [
        {
          "output_type": "stream",
          "name": "stdout",
          "text": [
            " * sqlite:///TMDB.db\n",
            "Done.\n"
          ]
        },
        {
          "output_type": "execute_result",
          "data": {
            "text/plain": [
              "[('Interstellar', 724.247784)]"
            ],
            "text/html": [
              "<table>\n",
              "    <thead>\n",
              "        <tr>\n",
              "            <th>title</th>\n",
              "            <th>popularity</th>\n",
              "        </tr>\n",
              "    </thead>\n",
              "    <tbody>\n",
              "        <tr>\n",
              "            <td>Interstellar</td>\n",
              "            <td>724.247784</td>\n",
              "        </tr>\n",
              "    </tbody>\n",
              "</table>"
            ]
          },
          "metadata": {},
          "execution_count": 9
        }
      ],
      "source": [
        "%%sql\n",
        "select title, popularity from movies where release_date > '2000-01-01' and budget > 100000000 order by popularity desc limit 1;"
      ]
    },
    {
      "cell_type": "markdown",
      "metadata": {
        "id": "CfRuCZ68Jqn0"
      },
      "source": [
        "### Question 8\n",
        "How many movies are there that do not have English as their original language?\n",
        "\n"
      ]
    },
    {
      "cell_type": "code",
      "execution_count": 10,
      "metadata": {
        "id": "xptzYlgmJqn1",
        "colab": {
          "base_uri": "https://localhost:8080/",
          "height": 96
        },
        "outputId": "06a678f1-b6dd-4af9-9197-749d5817d985"
      },
      "outputs": [
        {
          "output_type": "stream",
          "name": "stdout",
          "text": [
            " * sqlite:///TMDB.db\n",
            "Done.\n"
          ]
        },
        {
          "output_type": "execute_result",
          "data": {
            "text/plain": [
              "[(298,)]"
            ],
            "text/html": [
              "<table>\n",
              "    <thead>\n",
              "        <tr>\n",
              "            <th>count(*)</th>\n",
              "        </tr>\n",
              "    </thead>\n",
              "    <tbody>\n",
              "        <tr>\n",
              "            <td>298</td>\n",
              "        </tr>\n",
              "    </tbody>\n",
              "</table>"
            ]
          },
          "metadata": {},
          "execution_count": 10
        }
      ],
      "source": [
        "%%sql\n",
        "select count(*) from movies where original_language <> 'en';"
      ]
    },
    {
      "cell_type": "markdown",
      "metadata": {
        "id": "1z4656wQJqn3"
      },
      "source": [
        "### Question 9\n",
        "In how many movies did Tom Cruise portray the character Ethan Hunt?\n",
        "\n"
      ]
    },
    {
      "cell_type": "code",
      "execution_count": 12,
      "metadata": {
        "id": "CiuwUD-NJqn3",
        "colab": {
          "base_uri": "https://localhost:8080/",
          "height": 96
        },
        "outputId": "ffde3628-fcca-46e8-f81d-128ca911f6c0"
      },
      "outputs": [
        {
          "output_type": "stream",
          "name": "stdout",
          "text": [
            " * sqlite:///TMDB.db\n",
            "Done.\n"
          ]
        },
        {
          "output_type": "execute_result",
          "data": {
            "text/plain": [
              "[(5,)]"
            ],
            "text/html": [
              "<table>\n",
              "    <thead>\n",
              "        <tr>\n",
              "            <th>count(*)</th>\n",
              "        </tr>\n",
              "    </thead>\n",
              "    <tbody>\n",
              "        <tr>\n",
              "            <td>5</td>\n",
              "        </tr>\n",
              "    </tbody>\n",
              "</table>"
            ]
          },
          "metadata": {},
          "execution_count": 12
        }
      ],
      "source": [
        "%%sql\n",
        "select count(*) from Casts where characters = 'Ethan Hunt';"
      ]
    },
    {
      "cell_type": "markdown",
      "metadata": {
        "id": "cUsRwRKJJqn3"
      },
      "source": [
        "### Question 10\n",
        "How many times was the actress Cate Blanchett nominated for an Oscar?"
      ]
    },
    {
      "cell_type": "code",
      "execution_count": 14,
      "metadata": {
        "id": "JV_kvB2nJqn3",
        "colab": {
          "base_uri": "https://localhost:8080/",
          "height": 96
        },
        "outputId": "900f1e73-990f-4bc4-c506-72724e102c34"
      },
      "outputs": [
        {
          "output_type": "stream",
          "name": "stdout",
          "text": [
            " * sqlite:///TMDB.db\n",
            "Done.\n"
          ]
        },
        {
          "output_type": "execute_result",
          "data": {
            "text/plain": [
              "[(7,)]"
            ],
            "text/html": [
              "<table>\n",
              "    <thead>\n",
              "        <tr>\n",
              "            <th>count(*)</th>\n",
              "        </tr>\n",
              "    </thead>\n",
              "    <tbody>\n",
              "        <tr>\n",
              "            <td>7</td>\n",
              "        </tr>\n",
              "    </tbody>\n",
              "</table>"
            ]
          },
          "metadata": {},
          "execution_count": 14
        }
      ],
      "source": [
        "%%sql\n",
        "select count(*) from Oscars where name = 'Cate Blanchett';"
      ]
    },
    {
      "cell_type": "markdown",
      "metadata": {
        "id": "B2vmIMtTJqn5"
      },
      "source": [
        "### Question 11\n",
        "What would be the code to insert a new genre called ‘Sport’ with an id of 10?\n"
      ]
    },
    {
      "cell_type": "code",
      "execution_count": 15,
      "metadata": {
        "id": "KxHhto3QJqn5",
        "colab": {
          "base_uri": "https://localhost:8080/"
        },
        "outputId": "1230e3de-6234-4abf-db66-fe0338af47ab"
      },
      "outputs": [
        {
          "output_type": "stream",
          "name": "stdout",
          "text": [
            " * sqlite:///TMDB.db\n",
            "1 rows affected.\n"
          ]
        },
        {
          "output_type": "execute_result",
          "data": {
            "text/plain": [
              "[]"
            ]
          },
          "metadata": {},
          "execution_count": 15
        }
      ],
      "source": [
        "%%sql\n",
        "insert into Genres values (10, 'Sport');"
      ]
    },
    {
      "cell_type": "code",
      "source": [
        "%%sql\n",
        "select * from Genres;"
      ],
      "metadata": {
        "colab": {
          "base_uri": "https://localhost:8080/",
          "height": 524
        },
        "id": "EI2NpSKQ-KPk",
        "outputId": "c1521c2c-b8db-4d91-c869-cdb7549871cb"
      },
      "execution_count": 16,
      "outputs": [
        {
          "output_type": "stream",
          "name": "stdout",
          "text": [
            " * sqlite:///TMDB.db\n",
            "Done.\n"
          ]
        },
        {
          "output_type": "execute_result",
          "data": {
            "text/plain": [
              "[(10, 'Sport'),\n",
              " (12, 'Adventure'),\n",
              " (14, 'Fantasy'),\n",
              " (16, 'Animation'),\n",
              " (18, 'Drama'),\n",
              " (27, 'Horror'),\n",
              " (28, 'Action'),\n",
              " (35, 'Comedy'),\n",
              " (36, 'History'),\n",
              " (37, 'Western'),\n",
              " (53, 'Thriller'),\n",
              " (80, 'Crime'),\n",
              " (99, 'Documentary'),\n",
              " (878, 'Science Fiction'),\n",
              " (9648, 'Mystery'),\n",
              " (10402, 'Music'),\n",
              " (10749, 'Romance'),\n",
              " (10751, 'Family'),\n",
              " (10752, 'War'),\n",
              " (10769, 'Foreign'),\n",
              " (10770, 'TV Movie')]"
            ],
            "text/html": [
              "<table>\n",
              "    <thead>\n",
              "        <tr>\n",
              "            <th>genre_id</th>\n",
              "            <th>genre_name</th>\n",
              "        </tr>\n",
              "    </thead>\n",
              "    <tbody>\n",
              "        <tr>\n",
              "            <td>10</td>\n",
              "            <td>Sport</td>\n",
              "        </tr>\n",
              "        <tr>\n",
              "            <td>12</td>\n",
              "            <td>Adventure</td>\n",
              "        </tr>\n",
              "        <tr>\n",
              "            <td>14</td>\n",
              "            <td>Fantasy</td>\n",
              "        </tr>\n",
              "        <tr>\n",
              "            <td>16</td>\n",
              "            <td>Animation</td>\n",
              "        </tr>\n",
              "        <tr>\n",
              "            <td>18</td>\n",
              "            <td>Drama</td>\n",
              "        </tr>\n",
              "        <tr>\n",
              "            <td>27</td>\n",
              "            <td>Horror</td>\n",
              "        </tr>\n",
              "        <tr>\n",
              "            <td>28</td>\n",
              "            <td>Action</td>\n",
              "        </tr>\n",
              "        <tr>\n",
              "            <td>35</td>\n",
              "            <td>Comedy</td>\n",
              "        </tr>\n",
              "        <tr>\n",
              "            <td>36</td>\n",
              "            <td>History</td>\n",
              "        </tr>\n",
              "        <tr>\n",
              "            <td>37</td>\n",
              "            <td>Western</td>\n",
              "        </tr>\n",
              "        <tr>\n",
              "            <td>53</td>\n",
              "            <td>Thriller</td>\n",
              "        </tr>\n",
              "        <tr>\n",
              "            <td>80</td>\n",
              "            <td>Crime</td>\n",
              "        </tr>\n",
              "        <tr>\n",
              "            <td>99</td>\n",
              "            <td>Documentary</td>\n",
              "        </tr>\n",
              "        <tr>\n",
              "            <td>878</td>\n",
              "            <td>Science Fiction</td>\n",
              "        </tr>\n",
              "        <tr>\n",
              "            <td>9648</td>\n",
              "            <td>Mystery</td>\n",
              "        </tr>\n",
              "        <tr>\n",
              "            <td>10402</td>\n",
              "            <td>Music</td>\n",
              "        </tr>\n",
              "        <tr>\n",
              "            <td>10749</td>\n",
              "            <td>Romance</td>\n",
              "        </tr>\n",
              "        <tr>\n",
              "            <td>10751</td>\n",
              "            <td>Family</td>\n",
              "        </tr>\n",
              "        <tr>\n",
              "            <td>10752</td>\n",
              "            <td>War</td>\n",
              "        </tr>\n",
              "        <tr>\n",
              "            <td>10769</td>\n",
              "            <td>Foreign</td>\n",
              "        </tr>\n",
              "        <tr>\n",
              "            <td>10770</td>\n",
              "            <td>TV Movie</td>\n",
              "        </tr>\n",
              "    </tbody>\n",
              "</table>"
            ]
          },
          "metadata": {},
          "execution_count": 16
        }
      ]
    },
    {
      "cell_type": "markdown",
      "metadata": {
        "id": "wJLGKPNqJqn5"
      },
      "source": [
        "### Question 12\n",
        "You have just watched The Flintstones movie and did not find it very funny. What code would delete the entry that links The Flintstones to the Comedy genre?\n"
      ]
    },
    {
      "cell_type": "code",
      "execution_count": 19,
      "metadata": {
        "id": "ClMS3iSiJqn5",
        "colab": {
          "base_uri": "https://localhost:8080/"
        },
        "outputId": "79998a97-e864-41f3-ddc7-3ee9d8e058c8"
      },
      "outputs": [
        {
          "output_type": "stream",
          "name": "stdout",
          "text": [
            " * sqlite:///TMDB.db\n",
            "1 rows affected.\n"
          ]
        },
        {
          "output_type": "execute_result",
          "data": {
            "text/plain": [
              "[]"
            ]
          },
          "metadata": {},
          "execution_count": 19
        }
      ],
      "source": [
        "%%sql\n",
        "delete from GenreMap where genre_id = 35 and movie_id=888;"
      ]
    },
    {
      "cell_type": "code",
      "source": [
        "%%sql\n",
        "select * from Genres where genre_id=14;"
      ],
      "metadata": {
        "colab": {
          "base_uri": "https://localhost:8080/",
          "height": 96
        },
        "id": "7K2x_9Rf_-RK",
        "outputId": "84f833b2-20d0-4228-ee5f-f47d8a84225e"
      },
      "execution_count": 24,
      "outputs": [
        {
          "output_type": "stream",
          "name": "stdout",
          "text": [
            " * sqlite:///TMDB.db\n",
            "Done.\n"
          ]
        },
        {
          "output_type": "execute_result",
          "data": {
            "text/plain": [
              "[(14, 'Fantasy')]"
            ],
            "text/html": [
              "<table>\n",
              "    <thead>\n",
              "        <tr>\n",
              "            <th>genre_id</th>\n",
              "            <th>genre_name</th>\n",
              "        </tr>\n",
              "    </thead>\n",
              "    <tbody>\n",
              "        <tr>\n",
              "            <td>14</td>\n",
              "            <td>Fantasy</td>\n",
              "        </tr>\n",
              "    </tbody>\n",
              "</table>"
            ]
          },
          "metadata": {},
          "execution_count": 24
        }
      ]
    },
    {
      "cell_type": "markdown",
      "metadata": {
        "id": "ZHMUw-F3Jqn5"
      },
      "source": [
        "### Question 13\n",
        "What code will give me the 10 most recently released movies in the database? and put it in a list\n"
      ]
    },
    {
      "cell_type": "code",
      "execution_count": 26,
      "metadata": {
        "id": "T7ZoP3zHJqn6",
        "colab": {
          "base_uri": "https://localhost:8080/",
          "height": 289
        },
        "outputId": "3aad6f8d-1578-4830-c50d-1c1593db1705"
      },
      "outputs": [
        {
          "output_type": "stream",
          "name": "stdout",
          "text": [
            " * sqlite:///TMDB.db\n",
            "Done.\n"
          ]
        },
        {
          "output_type": "execute_result",
          "data": {
            "text/plain": [
              "[('Growing Up Smith', '2017-02-03 00:00:00.000000'),\n",
              " ('Two Lovers and a Bear', '2016-10-02 00:00:00.000000'),\n",
              " ('Mr. Church', '2016-09-16 00:00:00.000000'),\n",
              " ('The Birth of a Nation', '2016-09-09 00:00:00.000000'),\n",
              " ('Kicks', '2016-09-09 00:00:00.000000'),\n",
              " ('Antibirth', '2016-09-02 00:00:00.000000'),\n",
              " ('Hands of Stone', '2016-08-26 00:00:00.000000'),\n",
              " ('Ben-Hur', '2016-08-17 00:00:00.000000'),\n",
              " (\"Pete's Dragon\", '2016-08-10 00:00:00.000000'),\n",
              " ('Suicide Squad', '2016-08-02 00:00:00.000000')]"
            ],
            "text/html": [
              "<table>\n",
              "    <thead>\n",
              "        <tr>\n",
              "            <th>title</th>\n",
              "            <th>release_date</th>\n",
              "        </tr>\n",
              "    </thead>\n",
              "    <tbody>\n",
              "        <tr>\n",
              "            <td>Growing Up Smith</td>\n",
              "            <td>2017-02-03 00:00:00.000000</td>\n",
              "        </tr>\n",
              "        <tr>\n",
              "            <td>Two Lovers and a Bear</td>\n",
              "            <td>2016-10-02 00:00:00.000000</td>\n",
              "        </tr>\n",
              "        <tr>\n",
              "            <td>Mr. Church</td>\n",
              "            <td>2016-09-16 00:00:00.000000</td>\n",
              "        </tr>\n",
              "        <tr>\n",
              "            <td>The Birth of a Nation</td>\n",
              "            <td>2016-09-09 00:00:00.000000</td>\n",
              "        </tr>\n",
              "        <tr>\n",
              "            <td>Kicks</td>\n",
              "            <td>2016-09-09 00:00:00.000000</td>\n",
              "        </tr>\n",
              "        <tr>\n",
              "            <td>Antibirth</td>\n",
              "            <td>2016-09-02 00:00:00.000000</td>\n",
              "        </tr>\n",
              "        <tr>\n",
              "            <td>Hands of Stone</td>\n",
              "            <td>2016-08-26 00:00:00.000000</td>\n",
              "        </tr>\n",
              "        <tr>\n",
              "            <td>Ben-Hur</td>\n",
              "            <td>2016-08-17 00:00:00.000000</td>\n",
              "        </tr>\n",
              "        <tr>\n",
              "            <td>Pete&#x27;s Dragon</td>\n",
              "            <td>2016-08-10 00:00:00.000000</td>\n",
              "        </tr>\n",
              "        <tr>\n",
              "            <td>Suicide Squad</td>\n",
              "            <td>2016-08-02 00:00:00.000000</td>\n",
              "        </tr>\n",
              "    </tbody>\n",
              "</table>"
            ]
          },
          "metadata": {},
          "execution_count": 26
        }
      ],
      "source": [
        "%%sql\n",
        "select title,release_date from movies order by release_date desc limit 10;"
      ]
    },
    {
      "cell_type": "markdown",
      "source": [
        "#**Analysis With SQL**"
      ],
      "metadata": {
        "id": "Gk1WTJPnISUH"
      }
    },
    {
      "cell_type": "code",
      "source": [
        "#Top movies in revenue\n",
        "%%sql\n",
        "select title,revenue from movies order by revenue desc limit 10;"
      ],
      "metadata": {
        "colab": {
          "base_uri": "https://localhost:8080/",
          "height": 289
        },
        "id": "SxPk3txmIi6T",
        "outputId": "33a4eed3-08c2-4010-cf11-db4a0a4c9d92"
      },
      "execution_count": 33,
      "outputs": [
        {
          "output_type": "stream",
          "name": "stdout",
          "text": [
            " * sqlite:///TMDB.db\n",
            "Done.\n"
          ]
        },
        {
          "output_type": "execute_result",
          "data": {
            "text/plain": [
              "[('Avatar', 2787965087.0),\n",
              " ('Titanic', 1845034188.0),\n",
              " ('The Avengers', 1519557910.0),\n",
              " ('Jurassic World', 1513528810.0),\n",
              " ('Furious 7', 1506249360.0),\n",
              " ('Avengers: Age of Ultron', 1405403694.0),\n",
              " ('Frozen', 1274219009.0),\n",
              " ('Iron Man 3', 1215439994.0),\n",
              " ('Minions', 1156730962.0),\n",
              " ('Captain America: Civil War', 1153304495.0)]"
            ],
            "text/html": [
              "<table>\n",
              "    <thead>\n",
              "        <tr>\n",
              "            <th>title</th>\n",
              "            <th>revenue</th>\n",
              "        </tr>\n",
              "    </thead>\n",
              "    <tbody>\n",
              "        <tr>\n",
              "            <td>Avatar</td>\n",
              "            <td>2787965087.0</td>\n",
              "        </tr>\n",
              "        <tr>\n",
              "            <td>Titanic</td>\n",
              "            <td>1845034188.0</td>\n",
              "        </tr>\n",
              "        <tr>\n",
              "            <td>The Avengers</td>\n",
              "            <td>1519557910.0</td>\n",
              "        </tr>\n",
              "        <tr>\n",
              "            <td>Jurassic World</td>\n",
              "            <td>1513528810.0</td>\n",
              "        </tr>\n",
              "        <tr>\n",
              "            <td>Furious 7</td>\n",
              "            <td>1506249360.0</td>\n",
              "        </tr>\n",
              "        <tr>\n",
              "            <td>Avengers: Age of Ultron</td>\n",
              "            <td>1405403694.0</td>\n",
              "        </tr>\n",
              "        <tr>\n",
              "            <td>Frozen</td>\n",
              "            <td>1274219009.0</td>\n",
              "        </tr>\n",
              "        <tr>\n",
              "            <td>Iron Man 3</td>\n",
              "            <td>1215439994.0</td>\n",
              "        </tr>\n",
              "        <tr>\n",
              "            <td>Minions</td>\n",
              "            <td>1156730962.0</td>\n",
              "        </tr>\n",
              "        <tr>\n",
              "            <td>Captain America: Civil War</td>\n",
              "            <td>1153304495.0</td>\n",
              "        </tr>\n",
              "    </tbody>\n",
              "</table>"
            ]
          },
          "metadata": {},
          "execution_count": 33
        }
      ]
    },
    {
      "cell_type": "code",
      "source": [
        "# The most popular genres of movies\n",
        "%%sql\n",
        "SELECT g.genre_name, COUNT(gm.movie_id) AS genre_count\n",
        "FROM GenreMap gm\n",
        "JOIN Genres g ON gm.genre_id = g.genre_id\n",
        "GROUP BY g.genre_name\n",
        "ORDER BY genre_count DESC;\n"
      ],
      "metadata": {
        "colab": {
          "base_uri": "https://localhost:8080/",
          "height": 502
        },
        "id": "slX6Y26AI-jh",
        "outputId": "f581014e-a32c-4a7c-9772-1218e44b8f2a"
      },
      "execution_count": 36,
      "outputs": [
        {
          "output_type": "stream",
          "name": "stdout",
          "text": [
            " * sqlite:///TMDB.db\n",
            "Done.\n"
          ]
        },
        {
          "output_type": "execute_result",
          "data": {
            "text/plain": [
              "[('Drama', 2297),\n",
              " ('Comedy', 1721),\n",
              " ('Thriller', 1274),\n",
              " ('Action', 1154),\n",
              " ('Romance', 894),\n",
              " ('Adventure', 790),\n",
              " ('Crime', 696),\n",
              " ('Science Fiction', 535),\n",
              " ('Horror', 519),\n",
              " ('Family', 513),\n",
              " ('Fantasy', 424),\n",
              " ('Mystery', 348),\n",
              " ('Animation', 234),\n",
              " ('History', 197),\n",
              " ('Music', 185),\n",
              " ('War', 144),\n",
              " ('Documentary', 110),\n",
              " ('Western', 82),\n",
              " ('Foreign', 34),\n",
              " ('TV Movie', 8)]"
            ],
            "text/html": [
              "<table>\n",
              "    <thead>\n",
              "        <tr>\n",
              "            <th>genre_name</th>\n",
              "            <th>genre_count</th>\n",
              "        </tr>\n",
              "    </thead>\n",
              "    <tbody>\n",
              "        <tr>\n",
              "            <td>Drama</td>\n",
              "            <td>2297</td>\n",
              "        </tr>\n",
              "        <tr>\n",
              "            <td>Comedy</td>\n",
              "            <td>1721</td>\n",
              "        </tr>\n",
              "        <tr>\n",
              "            <td>Thriller</td>\n",
              "            <td>1274</td>\n",
              "        </tr>\n",
              "        <tr>\n",
              "            <td>Action</td>\n",
              "            <td>1154</td>\n",
              "        </tr>\n",
              "        <tr>\n",
              "            <td>Romance</td>\n",
              "            <td>894</td>\n",
              "        </tr>\n",
              "        <tr>\n",
              "            <td>Adventure</td>\n",
              "            <td>790</td>\n",
              "        </tr>\n",
              "        <tr>\n",
              "            <td>Crime</td>\n",
              "            <td>696</td>\n",
              "        </tr>\n",
              "        <tr>\n",
              "            <td>Science Fiction</td>\n",
              "            <td>535</td>\n",
              "        </tr>\n",
              "        <tr>\n",
              "            <td>Horror</td>\n",
              "            <td>519</td>\n",
              "        </tr>\n",
              "        <tr>\n",
              "            <td>Family</td>\n",
              "            <td>513</td>\n",
              "        </tr>\n",
              "        <tr>\n",
              "            <td>Fantasy</td>\n",
              "            <td>424</td>\n",
              "        </tr>\n",
              "        <tr>\n",
              "            <td>Mystery</td>\n",
              "            <td>348</td>\n",
              "        </tr>\n",
              "        <tr>\n",
              "            <td>Animation</td>\n",
              "            <td>234</td>\n",
              "        </tr>\n",
              "        <tr>\n",
              "            <td>History</td>\n",
              "            <td>197</td>\n",
              "        </tr>\n",
              "        <tr>\n",
              "            <td>Music</td>\n",
              "            <td>185</td>\n",
              "        </tr>\n",
              "        <tr>\n",
              "            <td>War</td>\n",
              "            <td>144</td>\n",
              "        </tr>\n",
              "        <tr>\n",
              "            <td>Documentary</td>\n",
              "            <td>110</td>\n",
              "        </tr>\n",
              "        <tr>\n",
              "            <td>Western</td>\n",
              "            <td>82</td>\n",
              "        </tr>\n",
              "        <tr>\n",
              "            <td>Foreign</td>\n",
              "            <td>34</td>\n",
              "        </tr>\n",
              "        <tr>\n",
              "            <td>TV Movie</td>\n",
              "            <td>8</td>\n",
              "        </tr>\n",
              "    </tbody>\n",
              "</table>"
            ]
          },
          "metadata": {},
          "execution_count": 36
        }
      ]
    },
    {
      "cell_type": "code",
      "source": [
        "#top production companies\n",
        "%%sql\n",
        "SELECT pc.production_company_name, COUNT(m.movie_id) as total_movies\n",
        "FROM ProductionCompanies pc\n",
        "JOIN ProductionCompanyMap pcm ON pc.production_company_id = pcm.production_company_id\n",
        "JOIN Movies m ON pcm.movie_id = m.movie_id\n",
        "GROUP BY pc.production_company_name\n",
        "ORDER BY total_movies DESC\n",
        "limit 10;\n"
      ],
      "metadata": {
        "colab": {
          "base_uri": "https://localhost:8080/",
          "height": 289
        },
        "id": "dn9Y9S3bK7O4",
        "outputId": "94c0cb20-d715-405b-93f4-fd8728355985"
      },
      "execution_count": 48,
      "outputs": [
        {
          "output_type": "stream",
          "name": "stdout",
          "text": [
            " * sqlite:///TMDB.db\n",
            "Done.\n"
          ]
        },
        {
          "output_type": "execute_result",
          "data": {
            "text/plain": [
              "[('Warner Bros.', 319),\n",
              " ('Universal Pictures', 311),\n",
              " ('Paramount Pictures', 285),\n",
              " ('Twentieth Century Fox Film Corporation', 222),\n",
              " ('Columbia Pictures', 201),\n",
              " ('New Line Cinema', 165),\n",
              " ('Metro-Goldwyn-Mayer (MGM)', 122),\n",
              " ('Touchstone Pictures', 118),\n",
              " ('Walt Disney Pictures', 114),\n",
              " ('Relativity Media', 102)]"
            ],
            "text/html": [
              "<table>\n",
              "    <thead>\n",
              "        <tr>\n",
              "            <th>production_company_name</th>\n",
              "            <th>total_movies</th>\n",
              "        </tr>\n",
              "    </thead>\n",
              "    <tbody>\n",
              "        <tr>\n",
              "            <td>Warner Bros.</td>\n",
              "            <td>319</td>\n",
              "        </tr>\n",
              "        <tr>\n",
              "            <td>Universal Pictures</td>\n",
              "            <td>311</td>\n",
              "        </tr>\n",
              "        <tr>\n",
              "            <td>Paramount Pictures</td>\n",
              "            <td>285</td>\n",
              "        </tr>\n",
              "        <tr>\n",
              "            <td>Twentieth Century Fox Film Corporation</td>\n",
              "            <td>222</td>\n",
              "        </tr>\n",
              "        <tr>\n",
              "            <td>Columbia Pictures</td>\n",
              "            <td>201</td>\n",
              "        </tr>\n",
              "        <tr>\n",
              "            <td>New Line Cinema</td>\n",
              "            <td>165</td>\n",
              "        </tr>\n",
              "        <tr>\n",
              "            <td>Metro-Goldwyn-Mayer (MGM)</td>\n",
              "            <td>122</td>\n",
              "        </tr>\n",
              "        <tr>\n",
              "            <td>Touchstone Pictures</td>\n",
              "            <td>118</td>\n",
              "        </tr>\n",
              "        <tr>\n",
              "            <td>Walt Disney Pictures</td>\n",
              "            <td>114</td>\n",
              "        </tr>\n",
              "        <tr>\n",
              "            <td>Relativity Media</td>\n",
              "            <td>102</td>\n",
              "        </tr>\n",
              "    </tbody>\n",
              "</table>"
            ]
          },
          "metadata": {},
          "execution_count": 48
        }
      ]
    },
    {
      "cell_type": "code",
      "source": [
        "#most common language\n",
        "%%sql\n",
        "SELECT l.language_name, COUNT(m.movie_id) AS movie_count\n",
        "FROM Languages l\n",
        "JOIN LanguageMap lm ON l.iso_639_1 = lm.iso_639_1\n",
        "JOIN Movies m ON lm.movie_id = m.movie_id\n",
        "GROUP BY l.language_name\n",
        "ORDER BY movie_count DESC\n",
        "LIMIT 3;\n"
      ],
      "metadata": {
        "colab": {
          "base_uri": "https://localhost:8080/",
          "height": 139
        },
        "id": "dbDHqG-kPKMJ",
        "outputId": "82f2d98f-c563-4ef8-d834-5987dbe9b21c"
      },
      "execution_count": 53,
      "outputs": [
        {
          "output_type": "stream",
          "name": "stdout",
          "text": [
            " * sqlite:///TMDB.db\n",
            "Done.\n"
          ]
        },
        {
          "output_type": "execute_result",
          "data": {
            "text/plain": [
              "[('English', 4485), ('Frantais', 437), ('Espa±ol', 351)]"
            ],
            "text/html": [
              "<table>\n",
              "    <thead>\n",
              "        <tr>\n",
              "            <th>language_name</th>\n",
              "            <th>movie_count</th>\n",
              "        </tr>\n",
              "    </thead>\n",
              "    <tbody>\n",
              "        <tr>\n",
              "            <td>English</td>\n",
              "            <td>4485</td>\n",
              "        </tr>\n",
              "        <tr>\n",
              "            <td>Frantais</td>\n",
              "            <td>437</td>\n",
              "        </tr>\n",
              "        <tr>\n",
              "            <td>Espa±ol</td>\n",
              "            <td>351</td>\n",
              "        </tr>\n",
              "    </tbody>\n",
              "</table>"
            ]
          },
          "metadata": {},
          "execution_count": 53
        }
      ]
    },
    {
      "cell_type": "markdown",
      "metadata": {
        "id": "fEwLwzDLv9If"
      },
      "source": [
        "### Question 14\n",
        "# Visualization with Python\n",
        "\n",
        "You can choose **any table** from the database and create visualizations using Python libraries like **Matplotlib** or **Seaborn**. The goal is to explore and understand the data through visual analysis.\n",
        "\n",
        "For example, you could create a **bar chart** to show the number of movies in each genre or a **scatter plot** to compare movie **budget vs. revenue**.\n",
        "\n",
        "You can also **combine data from multiple tables** (using SQL joins) to create more complex visualizations. For instance, you might join the **Movies** table with the **Genres** table to show which genres have the highest-rated movies.\n",
        "\n",
        "\n",
        "\n",
        "### Example Ideas:\n",
        "- **Genres**: Visualize the most popular genres by the number of movies.\n",
        "- **Budget vs Revenue**: Analyze the relationship between movie budget and revenue.\n",
        "- **Languages**: Show the distribution of movies by language using a pie chart.\n",
        "- **Movie Trends**: Visualize how the number of movie releases has changed over the years.\n",
        "\n",
        "\n"
      ]
    },
    {
      "cell_type": "code",
      "execution_count": 29,
      "metadata": {
        "id": "2p7550USv9Ig",
        "colab": {
          "base_uri": "https://localhost:8080/"
        },
        "outputId": "2b74efe9-d1a1-44be-d784-f40ddc2ebc10"
      },
      "outputs": [
        {
          "output_type": "stream",
          "name": "stdout",
          "text": [
            " * sqlite:///TMDB.db\n",
            "Done.\n"
          ]
        }
      ],
      "source": [
        "result=%sql select * from movies;\n",
        "df=result.DataFrame()"
      ]
    },
    {
      "cell_type": "code",
      "source": [
        "df.head()"
      ],
      "metadata": {
        "colab": {
          "base_uri": "https://localhost:8080/",
          "height": 590
        },
        "id": "B7usw3IBGj7a",
        "outputId": "3ca47811-20fd-4013-f58a-fd7e74121b87"
      },
      "execution_count": 30,
      "outputs": [
        {
          "output_type": "execute_result",
          "data": {
            "text/plain": [
              "   movie_id            title                release_date    budget  \\\n",
              "0         5       Four Rooms  1995-12-09 00:00:00.000000   4000000   \n",
              "1        11        Star Wars  1977-05-25 00:00:00.000000  11000000   \n",
              "2        12     Finding Nemo  2003-05-30 00:00:00.000000  94000000   \n",
              "3        13     Forrest Gump  1994-07-06 00:00:00.000000  55000000   \n",
              "4        14  American Beauty  1999-09-15 00:00:00.000000  15000000   \n",
              "\n",
              "                                            homepage original_language  \\\n",
              "0                                               None                en   \n",
              "1  http://www.starwars.com/films/star-wars-episod...                en   \n",
              "2              http://movies.disney.com/finding-nemo                en   \n",
              "3                                               None                en   \n",
              "4                      http://www.dreamworks.com/ab/                en   \n",
              "\n",
              "    original_title                                           overview  \\\n",
              "0       Four Rooms  It's Ted the Bellhop's first night on the job....   \n",
              "1        Star Wars  Princess Leia is captured and held hostage by ...   \n",
              "2     Finding Nemo  Nemo, an adventurous young clownfish, is unexp...   \n",
              "3     Forrest Gump  A man with a low IQ has accomplished great thi...   \n",
              "4  American Beauty  Lester Burnham, a depressed suburban father in...   \n",
              "\n",
              "   popularity      revenue  runtime release_status  \\\n",
              "0   22.876230    4300000.0     98.0       Released   \n",
              "1  126.393695  775398007.0    121.0       Released   \n",
              "2   85.688789  940335536.0    100.0       Released   \n",
              "3  138.133331  677945399.0    142.0       Released   \n",
              "4   80.878605  356296601.0    122.0       Released   \n",
              "\n",
              "                                             tagline  vote_average  vote_count  \n",
              "0  Twelve outrageous guests. Four scandalous requ...           6.5         530  \n",
              "1       A long time ago in a galaxy far, far away...           8.1        6624  \n",
              "2  There are 3.7 trillion fish in the ocean, they...           7.6        6122  \n",
              "3  The world will never be the same, once you've ...           8.2        7927  \n",
              "4                                       Look closer.           7.9        3313  "
            ],
            "text/html": [
              "\n",
              "  <div id=\"df-651456b7-e64b-4146-ad29-85c028277c92\" class=\"colab-df-container\">\n",
              "    <div>\n",
              "<style scoped>\n",
              "    .dataframe tbody tr th:only-of-type {\n",
              "        vertical-align: middle;\n",
              "    }\n",
              "\n",
              "    .dataframe tbody tr th {\n",
              "        vertical-align: top;\n",
              "    }\n",
              "\n",
              "    .dataframe thead th {\n",
              "        text-align: right;\n",
              "    }\n",
              "</style>\n",
              "<table border=\"1\" class=\"dataframe\">\n",
              "  <thead>\n",
              "    <tr style=\"text-align: right;\">\n",
              "      <th></th>\n",
              "      <th>movie_id</th>\n",
              "      <th>title</th>\n",
              "      <th>release_date</th>\n",
              "      <th>budget</th>\n",
              "      <th>homepage</th>\n",
              "      <th>original_language</th>\n",
              "      <th>original_title</th>\n",
              "      <th>overview</th>\n",
              "      <th>popularity</th>\n",
              "      <th>revenue</th>\n",
              "      <th>runtime</th>\n",
              "      <th>release_status</th>\n",
              "      <th>tagline</th>\n",
              "      <th>vote_average</th>\n",
              "      <th>vote_count</th>\n",
              "    </tr>\n",
              "  </thead>\n",
              "  <tbody>\n",
              "    <tr>\n",
              "      <th>0</th>\n",
              "      <td>5</td>\n",
              "      <td>Four Rooms</td>\n",
              "      <td>1995-12-09 00:00:00.000000</td>\n",
              "      <td>4000000</td>\n",
              "      <td>None</td>\n",
              "      <td>en</td>\n",
              "      <td>Four Rooms</td>\n",
              "      <td>It's Ted the Bellhop's first night on the job....</td>\n",
              "      <td>22.876230</td>\n",
              "      <td>4300000.0</td>\n",
              "      <td>98.0</td>\n",
              "      <td>Released</td>\n",
              "      <td>Twelve outrageous guests. Four scandalous requ...</td>\n",
              "      <td>6.5</td>\n",
              "      <td>530</td>\n",
              "    </tr>\n",
              "    <tr>\n",
              "      <th>1</th>\n",
              "      <td>11</td>\n",
              "      <td>Star Wars</td>\n",
              "      <td>1977-05-25 00:00:00.000000</td>\n",
              "      <td>11000000</td>\n",
              "      <td>http://www.starwars.com/films/star-wars-episod...</td>\n",
              "      <td>en</td>\n",
              "      <td>Star Wars</td>\n",
              "      <td>Princess Leia is captured and held hostage by ...</td>\n",
              "      <td>126.393695</td>\n",
              "      <td>775398007.0</td>\n",
              "      <td>121.0</td>\n",
              "      <td>Released</td>\n",
              "      <td>A long time ago in a galaxy far, far away...</td>\n",
              "      <td>8.1</td>\n",
              "      <td>6624</td>\n",
              "    </tr>\n",
              "    <tr>\n",
              "      <th>2</th>\n",
              "      <td>12</td>\n",
              "      <td>Finding Nemo</td>\n",
              "      <td>2003-05-30 00:00:00.000000</td>\n",
              "      <td>94000000</td>\n",
              "      <td>http://movies.disney.com/finding-nemo</td>\n",
              "      <td>en</td>\n",
              "      <td>Finding Nemo</td>\n",
              "      <td>Nemo, an adventurous young clownfish, is unexp...</td>\n",
              "      <td>85.688789</td>\n",
              "      <td>940335536.0</td>\n",
              "      <td>100.0</td>\n",
              "      <td>Released</td>\n",
              "      <td>There are 3.7 trillion fish in the ocean, they...</td>\n",
              "      <td>7.6</td>\n",
              "      <td>6122</td>\n",
              "    </tr>\n",
              "    <tr>\n",
              "      <th>3</th>\n",
              "      <td>13</td>\n",
              "      <td>Forrest Gump</td>\n",
              "      <td>1994-07-06 00:00:00.000000</td>\n",
              "      <td>55000000</td>\n",
              "      <td>None</td>\n",
              "      <td>en</td>\n",
              "      <td>Forrest Gump</td>\n",
              "      <td>A man with a low IQ has accomplished great thi...</td>\n",
              "      <td>138.133331</td>\n",
              "      <td>677945399.0</td>\n",
              "      <td>142.0</td>\n",
              "      <td>Released</td>\n",
              "      <td>The world will never be the same, once you've ...</td>\n",
              "      <td>8.2</td>\n",
              "      <td>7927</td>\n",
              "    </tr>\n",
              "    <tr>\n",
              "      <th>4</th>\n",
              "      <td>14</td>\n",
              "      <td>American Beauty</td>\n",
              "      <td>1999-09-15 00:00:00.000000</td>\n",
              "      <td>15000000</td>\n",
              "      <td>http://www.dreamworks.com/ab/</td>\n",
              "      <td>en</td>\n",
              "      <td>American Beauty</td>\n",
              "      <td>Lester Burnham, a depressed suburban father in...</td>\n",
              "      <td>80.878605</td>\n",
              "      <td>356296601.0</td>\n",
              "      <td>122.0</td>\n",
              "      <td>Released</td>\n",
              "      <td>Look closer.</td>\n",
              "      <td>7.9</td>\n",
              "      <td>3313</td>\n",
              "    </tr>\n",
              "  </tbody>\n",
              "</table>\n",
              "</div>\n",
              "    <div class=\"colab-df-buttons\">\n",
              "\n",
              "  <div class=\"colab-df-container\">\n",
              "    <button class=\"colab-df-convert\" onclick=\"convertToInteractive('df-651456b7-e64b-4146-ad29-85c028277c92')\"\n",
              "            title=\"Convert this dataframe to an interactive table.\"\n",
              "            style=\"display:none;\">\n",
              "\n",
              "  <svg xmlns=\"http://www.w3.org/2000/svg\" height=\"24px\" viewBox=\"0 -960 960 960\">\n",
              "    <path d=\"M120-120v-720h720v720H120Zm60-500h600v-160H180v160Zm220 220h160v-160H400v160Zm0 220h160v-160H400v160ZM180-400h160v-160H180v160Zm440 0h160v-160H620v160ZM180-180h160v-160H180v160Zm440 0h160v-160H620v160Z\"/>\n",
              "  </svg>\n",
              "    </button>\n",
              "\n",
              "  <style>\n",
              "    .colab-df-container {\n",
              "      display:flex;\n",
              "      gap: 12px;\n",
              "    }\n",
              "\n",
              "    .colab-df-convert {\n",
              "      background-color: #E8F0FE;\n",
              "      border: none;\n",
              "      border-radius: 50%;\n",
              "      cursor: pointer;\n",
              "      display: none;\n",
              "      fill: #1967D2;\n",
              "      height: 32px;\n",
              "      padding: 0 0 0 0;\n",
              "      width: 32px;\n",
              "    }\n",
              "\n",
              "    .colab-df-convert:hover {\n",
              "      background-color: #E2EBFA;\n",
              "      box-shadow: 0px 1px 2px rgba(60, 64, 67, 0.3), 0px 1px 3px 1px rgba(60, 64, 67, 0.15);\n",
              "      fill: #174EA6;\n",
              "    }\n",
              "\n",
              "    .colab-df-buttons div {\n",
              "      margin-bottom: 4px;\n",
              "    }\n",
              "\n",
              "    [theme=dark] .colab-df-convert {\n",
              "      background-color: #3B4455;\n",
              "      fill: #D2E3FC;\n",
              "    }\n",
              "\n",
              "    [theme=dark] .colab-df-convert:hover {\n",
              "      background-color: #434B5C;\n",
              "      box-shadow: 0px 1px 3px 1px rgba(0, 0, 0, 0.15);\n",
              "      filter: drop-shadow(0px 1px 2px rgba(0, 0, 0, 0.3));\n",
              "      fill: #FFFFFF;\n",
              "    }\n",
              "  </style>\n",
              "\n",
              "    <script>\n",
              "      const buttonEl =\n",
              "        document.querySelector('#df-651456b7-e64b-4146-ad29-85c028277c92 button.colab-df-convert');\n",
              "      buttonEl.style.display =\n",
              "        google.colab.kernel.accessAllowed ? 'block' : 'none';\n",
              "\n",
              "      async function convertToInteractive(key) {\n",
              "        const element = document.querySelector('#df-651456b7-e64b-4146-ad29-85c028277c92');\n",
              "        const dataTable =\n",
              "          await google.colab.kernel.invokeFunction('convertToInteractive',\n",
              "                                                    [key], {});\n",
              "        if (!dataTable) return;\n",
              "\n",
              "        const docLinkHtml = 'Like what you see? Visit the ' +\n",
              "          '<a target=\"_blank\" href=https://colab.research.google.com/notebooks/data_table.ipynb>data table notebook</a>'\n",
              "          + ' to learn more about interactive tables.';\n",
              "        element.innerHTML = '';\n",
              "        dataTable['output_type'] = 'display_data';\n",
              "        await google.colab.output.renderOutput(dataTable, element);\n",
              "        const docLink = document.createElement('div');\n",
              "        docLink.innerHTML = docLinkHtml;\n",
              "        element.appendChild(docLink);\n",
              "      }\n",
              "    </script>\n",
              "  </div>\n",
              "\n",
              "\n",
              "<div id=\"df-c08839ec-b154-4c03-8df6-f79b65c34976\">\n",
              "  <button class=\"colab-df-quickchart\" onclick=\"quickchart('df-c08839ec-b154-4c03-8df6-f79b65c34976')\"\n",
              "            title=\"Suggest charts\"\n",
              "            style=\"display:none;\">\n",
              "\n",
              "<svg xmlns=\"http://www.w3.org/2000/svg\" height=\"24px\"viewBox=\"0 0 24 24\"\n",
              "     width=\"24px\">\n",
              "    <g>\n",
              "        <path d=\"M19 3H5c-1.1 0-2 .9-2 2v14c0 1.1.9 2 2 2h14c1.1 0 2-.9 2-2V5c0-1.1-.9-2-2-2zM9 17H7v-7h2v7zm4 0h-2V7h2v10zm4 0h-2v-4h2v4z\"/>\n",
              "    </g>\n",
              "</svg>\n",
              "  </button>\n",
              "\n",
              "<style>\n",
              "  .colab-df-quickchart {\n",
              "      --bg-color: #E8F0FE;\n",
              "      --fill-color: #1967D2;\n",
              "      --hover-bg-color: #E2EBFA;\n",
              "      --hover-fill-color: #174EA6;\n",
              "      --disabled-fill-color: #AAA;\n",
              "      --disabled-bg-color: #DDD;\n",
              "  }\n",
              "\n",
              "  [theme=dark] .colab-df-quickchart {\n",
              "      --bg-color: #3B4455;\n",
              "      --fill-color: #D2E3FC;\n",
              "      --hover-bg-color: #434B5C;\n",
              "      --hover-fill-color: #FFFFFF;\n",
              "      --disabled-bg-color: #3B4455;\n",
              "      --disabled-fill-color: #666;\n",
              "  }\n",
              "\n",
              "  .colab-df-quickchart {\n",
              "    background-color: var(--bg-color);\n",
              "    border: none;\n",
              "    border-radius: 50%;\n",
              "    cursor: pointer;\n",
              "    display: none;\n",
              "    fill: var(--fill-color);\n",
              "    height: 32px;\n",
              "    padding: 0;\n",
              "    width: 32px;\n",
              "  }\n",
              "\n",
              "  .colab-df-quickchart:hover {\n",
              "    background-color: var(--hover-bg-color);\n",
              "    box-shadow: 0 1px 2px rgba(60, 64, 67, 0.3), 0 1px 3px 1px rgba(60, 64, 67, 0.15);\n",
              "    fill: var(--button-hover-fill-color);\n",
              "  }\n",
              "\n",
              "  .colab-df-quickchart-complete:disabled,\n",
              "  .colab-df-quickchart-complete:disabled:hover {\n",
              "    background-color: var(--disabled-bg-color);\n",
              "    fill: var(--disabled-fill-color);\n",
              "    box-shadow: none;\n",
              "  }\n",
              "\n",
              "  .colab-df-spinner {\n",
              "    border: 2px solid var(--fill-color);\n",
              "    border-color: transparent;\n",
              "    border-bottom-color: var(--fill-color);\n",
              "    animation:\n",
              "      spin 1s steps(1) infinite;\n",
              "  }\n",
              "\n",
              "  @keyframes spin {\n",
              "    0% {\n",
              "      border-color: transparent;\n",
              "      border-bottom-color: var(--fill-color);\n",
              "      border-left-color: var(--fill-color);\n",
              "    }\n",
              "    20% {\n",
              "      border-color: transparent;\n",
              "      border-left-color: var(--fill-color);\n",
              "      border-top-color: var(--fill-color);\n",
              "    }\n",
              "    30% {\n",
              "      border-color: transparent;\n",
              "      border-left-color: var(--fill-color);\n",
              "      border-top-color: var(--fill-color);\n",
              "      border-right-color: var(--fill-color);\n",
              "    }\n",
              "    40% {\n",
              "      border-color: transparent;\n",
              "      border-right-color: var(--fill-color);\n",
              "      border-top-color: var(--fill-color);\n",
              "    }\n",
              "    60% {\n",
              "      border-color: transparent;\n",
              "      border-right-color: var(--fill-color);\n",
              "    }\n",
              "    80% {\n",
              "      border-color: transparent;\n",
              "      border-right-color: var(--fill-color);\n",
              "      border-bottom-color: var(--fill-color);\n",
              "    }\n",
              "    90% {\n",
              "      border-color: transparent;\n",
              "      border-bottom-color: var(--fill-color);\n",
              "    }\n",
              "  }\n",
              "</style>\n",
              "\n",
              "  <script>\n",
              "    async function quickchart(key) {\n",
              "      const quickchartButtonEl =\n",
              "        document.querySelector('#' + key + ' button');\n",
              "      quickchartButtonEl.disabled = true;  // To prevent multiple clicks.\n",
              "      quickchartButtonEl.classList.add('colab-df-spinner');\n",
              "      try {\n",
              "        const charts = await google.colab.kernel.invokeFunction(\n",
              "            'suggestCharts', [key], {});\n",
              "      } catch (error) {\n",
              "        console.error('Error during call to suggestCharts:', error);\n",
              "      }\n",
              "      quickchartButtonEl.classList.remove('colab-df-spinner');\n",
              "      quickchartButtonEl.classList.add('colab-df-quickchart-complete');\n",
              "    }\n",
              "    (() => {\n",
              "      let quickchartButtonEl =\n",
              "        document.querySelector('#df-c08839ec-b154-4c03-8df6-f79b65c34976 button');\n",
              "      quickchartButtonEl.style.display =\n",
              "        google.colab.kernel.accessAllowed ? 'block' : 'none';\n",
              "    })();\n",
              "  </script>\n",
              "</div>\n",
              "\n",
              "    </div>\n",
              "  </div>\n"
            ],
            "application/vnd.google.colaboratory.intrinsic+json": {
              "type": "dataframe",
              "variable_name": "df",
              "summary": "{\n  \"name\": \"df\",\n  \"rows\": 4803,\n  \"fields\": [\n    {\n      \"column\": \"movie_id\",\n      \"properties\": {\n        \"dtype\": \"number\",\n        \"std\": 88694,\n        \"min\": 5,\n        \"max\": 459488,\n        \"num_unique_values\": 4803,\n        \"samples\": [\n          1874,\n          44770,\n          19995\n        ],\n        \"semantic_type\": \"\",\n        \"description\": \"\"\n      }\n    },\n    {\n      \"column\": \"title\",\n      \"properties\": {\n        \"dtype\": \"string\",\n        \"num_unique_values\": 4800,\n        \"samples\": [\n          \"Goodbye Bafana\",\n          \"The Exploding Girl\",\n          \"Little Nicholas\"\n        ],\n        \"semantic_type\": \"\",\n        \"description\": \"\"\n      }\n    },\n    {\n      \"column\": \"release_date\",\n      \"properties\": {\n        \"dtype\": \"object\",\n        \"num_unique_values\": 3280,\n        \"samples\": [\n          \"2014-01-10 00:00:00.000000\",\n          \"2010-09-16 00:00:00.000000\",\n          \"1986-10-07 00:00:00.000000\"\n        ],\n        \"semantic_type\": \"\",\n        \"description\": \"\"\n      }\n    },\n    {\n      \"column\": \"budget\",\n      \"properties\": {\n        \"dtype\": \"number\",\n        \"std\": 40722391,\n        \"min\": 0,\n        \"max\": 380000000,\n        \"num_unique_values\": 436,\n        \"samples\": [\n          13300000,\n          100000000,\n          35866397\n        ],\n        \"semantic_type\": \"\",\n        \"description\": \"\"\n      }\n    },\n    {\n      \"column\": \"homepage\",\n      \"properties\": {\n        \"dtype\": \"category\",\n        \"num_unique_values\": 1691,\n        \"samples\": [\n          \"http://www.foxsearchlight.com/neverletmego/\",\n          \"http://www.purgeelectionyear.com\",\n          \"http://argothemovie.warnerbros.com/\"\n        ],\n        \"semantic_type\": \"\",\n        \"description\": \"\"\n      }\n    },\n    {\n      \"column\": \"original_language\",\n      \"properties\": {\n        \"dtype\": \"category\",\n        \"num_unique_values\": 37,\n        \"samples\": [\n          \"he\",\n          \"af\",\n          \"ja\"\n        ],\n        \"semantic_type\": \"\",\n        \"description\": \"\"\n      }\n    },\n    {\n      \"column\": \"original_title\",\n      \"properties\": {\n        \"dtype\": \"string\",\n        \"num_unique_values\": 4750,\n        \"samples\": [\n          \"LOL\",\n          \"Poetic Justice\",\n          \"Harry Potter and the Philosopher's Stone\"\n        ],\n        \"semantic_type\": \"\",\n        \"description\": \"\"\n      }\n    },\n    {\n      \"column\": \"overview\",\n      \"properties\": {\n        \"dtype\": \"string\",\n        \"num_unique_values\": 4800,\n        \"samples\": [\n          \"The true story of a white South African racist whose life was profoundly altered by the black prisoner he guarded for twenty years. The prisoner's name was Nelson Mandela.\",\n          \"A movie spun out of equal parts folk tale, fable and real-life legend about the mysterious, 1930s Tennessee hermit who famously threw his own rollicking funeral party... while he was still alive.\",\n          \"SOUL KITCHEN film centers on a likable but hopelessly disorganized restauranteur, Zinos, whose cafe is second home to a motley crew of lovable eccentrics. When his girlfriend Nadine up and moves to Shanghai, a love-sick Zinos decides to fly after her, leaving his restaurant in the hands of his unreliable ex-con brother Illias. Both decisions turn out disastrous: Illias gambles away the restaurant to a shady real estate agent, and Zinos finds Nadine with a new lover. If the brothers can stop arguing and get it together, the Soul Kitchen might still have one last chance at staying in business. The mayhem that follows is a hilariously entertaining story of self-realization, set to an irresistibly soulful soundtrack.\"\n        ],\n        \"semantic_type\": \"\",\n        \"description\": \"\"\n      }\n    },\n    {\n      \"column\": \"popularity\",\n      \"properties\": {\n        \"dtype\": \"number\",\n        \"std\": 31.81664974953777,\n        \"min\": 0.0,\n        \"max\": 875.581305,\n        \"num_unique_values\": 4802,\n        \"samples\": [\n          12.257654,\n          44.19092,\n          1.623338\n        ],\n        \"semantic_type\": \"\",\n        \"description\": \"\"\n      }\n    },\n    {\n      \"column\": \"revenue\",\n      \"properties\": {\n        \"dtype\": \"number\",\n        \"std\": 162857100.94282982,\n        \"min\": 0.0,\n        \"max\": 2787965087.0,\n        \"num_unique_values\": 3297,\n        \"samples\": [\n          123494610.0,\n          243637091.0,\n          135680000.0\n        ],\n        \"semantic_type\": \"\",\n        \"description\": \"\"\n      }\n    },\n    {\n      \"column\": \"runtime\",\n      \"properties\": {\n        \"dtype\": \"number\",\n        \"std\": 22.611934588844232,\n        \"min\": 0.0,\n        \"max\": 338.0,\n        \"num_unique_values\": 156,\n        \"samples\": [\n          146.0,\n          188.0,\n          84.0\n        ],\n        \"semantic_type\": \"\",\n        \"description\": \"\"\n      }\n    },\n    {\n      \"column\": \"release_status\",\n      \"properties\": {\n        \"dtype\": \"category\",\n        \"num_unique_values\": 3,\n        \"samples\": [\n          \"Released\",\n          \"Rumored\",\n          \"Post Production\"\n        ],\n        \"semantic_type\": \"\",\n        \"description\": \"\"\n      }\n    },\n    {\n      \"column\": \"tagline\",\n      \"properties\": {\n        \"dtype\": \"string\",\n        \"num_unique_values\": 3944,\n        \"samples\": [\n          \"Partners in survival. Friends for life.\",\n          \"Gilbert & Sullivan & So Much More\",\n          \"They can't keep their hands off each others assets.\"\n        ],\n        \"semantic_type\": \"\",\n        \"description\": \"\"\n      }\n    },\n    {\n      \"column\": \"vote_average\",\n      \"properties\": {\n        \"dtype\": \"number\",\n        \"std\": 1.1946121628478923,\n        \"min\": 0.0,\n        \"max\": 10.0,\n        \"num_unique_values\": 71,\n        \"samples\": [\n          8.3,\n          6.5,\n          4.0\n        ],\n        \"semantic_type\": \"\",\n        \"description\": \"\"\n      }\n    },\n    {\n      \"column\": \"vote_count\",\n      \"properties\": {\n        \"dtype\": \"number\",\n        \"std\": 1234,\n        \"min\": 0,\n        \"max\": 13752,\n        \"num_unique_values\": 1609,\n        \"samples\": [\n          959,\n          1251,\n          1018\n        ],\n        \"semantic_type\": \"\",\n        \"description\": \"\"\n      }\n    }\n  ]\n}"
            }
          },
          "metadata": {},
          "execution_count": 30
        }
      ]
    },
    {
      "cell_type": "code",
      "source": [
        "df.shape"
      ],
      "metadata": {
        "colab": {
          "base_uri": "https://localhost:8080/"
        },
        "id": "4nIAd46yHdX9",
        "outputId": "5856bc04-847f-4e00-f339-fb77eb9dff78"
      },
      "execution_count": 32,
      "outputs": [
        {
          "output_type": "execute_result",
          "data": {
            "text/plain": [
              "(4803, 15)"
            ]
          },
          "metadata": {},
          "execution_count": 32
        }
      ]
    },
    {
      "cell_type": "code",
      "source": [
        "df.isnull().sum()"
      ],
      "metadata": {
        "colab": {
          "base_uri": "https://localhost:8080/",
          "height": 554
        },
        "id": "LSXN95vWG6_t",
        "outputId": "3e077d8d-3d68-478c-cded-b39e8f25430c"
      },
      "execution_count": 31,
      "outputs": [
        {
          "output_type": "execute_result",
          "data": {
            "text/plain": [
              "movie_id                0\n",
              "title                   0\n",
              "release_date            1\n",
              "budget                  0\n",
              "homepage             3091\n",
              "original_language       0\n",
              "original_title          0\n",
              "overview                3\n",
              "popularity              0\n",
              "revenue                 0\n",
              "runtime                 2\n",
              "release_status          0\n",
              "tagline               844\n",
              "vote_average            0\n",
              "vote_count              0\n",
              "dtype: int64"
            ],
            "text/html": [
              "<div>\n",
              "<style scoped>\n",
              "    .dataframe tbody tr th:only-of-type {\n",
              "        vertical-align: middle;\n",
              "    }\n",
              "\n",
              "    .dataframe tbody tr th {\n",
              "        vertical-align: top;\n",
              "    }\n",
              "\n",
              "    .dataframe thead th {\n",
              "        text-align: right;\n",
              "    }\n",
              "</style>\n",
              "<table border=\"1\" class=\"dataframe\">\n",
              "  <thead>\n",
              "    <tr style=\"text-align: right;\">\n",
              "      <th></th>\n",
              "      <th>0</th>\n",
              "    </tr>\n",
              "  </thead>\n",
              "  <tbody>\n",
              "    <tr>\n",
              "      <th>movie_id</th>\n",
              "      <td>0</td>\n",
              "    </tr>\n",
              "    <tr>\n",
              "      <th>title</th>\n",
              "      <td>0</td>\n",
              "    </tr>\n",
              "    <tr>\n",
              "      <th>release_date</th>\n",
              "      <td>1</td>\n",
              "    </tr>\n",
              "    <tr>\n",
              "      <th>budget</th>\n",
              "      <td>0</td>\n",
              "    </tr>\n",
              "    <tr>\n",
              "      <th>homepage</th>\n",
              "      <td>3091</td>\n",
              "    </tr>\n",
              "    <tr>\n",
              "      <th>original_language</th>\n",
              "      <td>0</td>\n",
              "    </tr>\n",
              "    <tr>\n",
              "      <th>original_title</th>\n",
              "      <td>0</td>\n",
              "    </tr>\n",
              "    <tr>\n",
              "      <th>overview</th>\n",
              "      <td>3</td>\n",
              "    </tr>\n",
              "    <tr>\n",
              "      <th>popularity</th>\n",
              "      <td>0</td>\n",
              "    </tr>\n",
              "    <tr>\n",
              "      <th>revenue</th>\n",
              "      <td>0</td>\n",
              "    </tr>\n",
              "    <tr>\n",
              "      <th>runtime</th>\n",
              "      <td>2</td>\n",
              "    </tr>\n",
              "    <tr>\n",
              "      <th>release_status</th>\n",
              "      <td>0</td>\n",
              "    </tr>\n",
              "    <tr>\n",
              "      <th>tagline</th>\n",
              "      <td>844</td>\n",
              "    </tr>\n",
              "    <tr>\n",
              "      <th>vote_average</th>\n",
              "      <td>0</td>\n",
              "    </tr>\n",
              "    <tr>\n",
              "      <th>vote_count</th>\n",
              "      <td>0</td>\n",
              "    </tr>\n",
              "  </tbody>\n",
              "</table>\n",
              "</div><br><label><b>dtype:</b> int64</label>"
            ]
          },
          "metadata": {},
          "execution_count": 31
        }
      ]
    },
    {
      "cell_type": "code",
      "source": [
        "import matplotlib.pyplot as plt\n",
        "import seaborn as sns\n",
        "plt.figure(figsize=(8,6))\n",
        "sns.scatterplot(x=df['budget'], y=df['revenue'],palette='viridis')\n",
        "plt.title('Revenue vs Budget for Movies')\n",
        "plt.xlabel('Budget ($)')\n",
        "plt.ylabel('Revenue ($)')\n",
        "plt.show()\n",
        "\n"
      ],
      "metadata": {
        "colab": {
          "base_uri": "https://localhost:8080/",
          "height": 599
        },
        "id": "xYnN1vgwHaV2",
        "outputId": "470e0d71-83a7-4ce0-f5fd-5eeadc320f54"
      },
      "execution_count": 59,
      "outputs": [
        {
          "output_type": "stream",
          "name": "stderr",
          "text": [
            "<ipython-input-59-a73cedc87f42>:4: UserWarning: Ignoring `palette` because no `hue` variable has been assigned.\n",
            "  sns.scatterplot(x=df['budget'], y=df['revenue'],palette='viridis')\n"
          ]
        },
        {
          "output_type": "display_data",
          "data": {
            "text/plain": [
              "<Figure size 800x600 with 1 Axes>"
            ],
            "image/png": "[encoded data removed]"
          },
          "metadata": {}
        }
      ]
    },
    {
      "cell_type": "code",
      "source": [
        "plt.figure(figsize=(10,6))\n",
        "df[['budget', 'revenue']].hist(bins=30, alpha=0.7, figsize=(10,6))\n",
        "plt.suptitle('Distribution of Budget and Revenue')\n",
        "plt.show()\n"
      ],
      "metadata": {
        "colab": {
          "base_uri": "https://localhost:8080/",
          "height": 617
        },
        "id": "15oJHO1SQyBK",
        "outputId": "6eb0f377-27d4-47fa-a99a-66ce37000a29"
      },
      "execution_count": 61,
      "outputs": [
        {
          "output_type": "display_data",
          "data": {
            "text/plain": [
              "<Figure size 1000x600 with 0 Axes>"
            ]
          },
          "metadata": {}
        },
        {
          "output_type": "display_data",
          "data": {
            "text/plain": [
              "<Figure size 1000x600 with 2 Axes>"
            ],
            "image/png": "[encoded data removed]"
          },
          "metadata": {}
        }
      ]
    },
    {
      "cell_type": "code",
      "source": [],
      "metadata": {
        "id": "oU-f2BC4V560"
      },
      "execution_count": null,
      "outputs": []
    }
  ],
  "metadata": {
    "colab": {
      "provenance": []
    },
    "kernelspec": {
      "display_name": "Python 3",
      "language": "python",
      "name": "python3"
    },
    "language_info": {
      "codemirror_mode": {
        "name": "ipython",
        "version": 3
      },
      "file_extension": ".py",
      "mimetype": "text/x-python",
      "name": "python",
      "nbconvert_exporter": "python",
      "pygments_lexer": "ipython3",
      "version": "3.8.5"
    }
  },
  "nbformat": 4,
  "nbformat_minor": 0
}